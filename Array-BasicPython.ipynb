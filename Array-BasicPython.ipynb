{
 "cells": [
  {
   "cell_type": "code",
   "execution_count": 1,
   "metadata": {},
   "outputs": [
    {
     "name": "stdout",
     "output_type": "stream",
     "text": [
      "[[16, 99, 23], [11, 65, 18], [83, 95, 43]]\n",
      "[[43, 95, 51], [52, 34, 27], [62, 2, 3]]\n"
     ]
    }
   ],
   "source": [
    "import random\n",
    "a=[]\n",
    "b=[]\n",
    "for i in range(0,3):\n",
    "    a.append([])\n",
    "    b.append([])\n",
    "    for j in range(0,3):\n",
    "        val=random.randint(0,100)\n",
    "        val1=random.randint(0,100)\n",
    "        a[i].append(val)\n",
    "        b[i].append(val1)\n",
    "print(\"Mang a la: \" , a)\n",
    "print(\"Mang b la: \" , b)"
   ]
  },
  {
   "cell_type": "code",
   "execution_count": 6,
   "metadata": {},
   "outputs": [
    {
     "name": "stdout",
     "output_type": "stream",
     "text": [
      "Mang a la:  [[87, 48, 26], [77, 45, 67], [35, 74, 29]]\n",
      "Mang b la:  [[40, 59, 93], [47, 18, 11], [32, 15, 41]]\n",
      "Mang a + b la:  [[127, 107, 119], [124, 63, 78], [67, 89, 70]]\n"
     ]
    }
   ],
   "source": [
    "import random\n",
    "a=[]\n",
    "b=[]\n",
    "c=[]\n",
    "for i in range(0,3):\n",
    "    a.append([])\n",
    "    b.append([])\n",
    "    c.append([])\n",
    "    for j in range(0,3):\n",
    "        val=random.randint(0,100)\n",
    "        val1=random.randint(0,100)\n",
    "        a[i].append(val)\n",
    "        b[i].append(val1)\n",
    "        c[i].append(val+val1)\n",
    "print(\"Mang a la: \" , a)\n",
    "print(\"Mang b la: \" , b)\n",
    "print(\"Mang a + b la: \" , c)"
   ]
  },
  {
   "cell_type": "code",
   "execution_count": 7,
   "metadata": {},
   "outputs": [
    {
     "name": "stdout",
     "output_type": "stream",
     "text": [
      "Mang a la:  [[16, 17, 80], [90, 76, 97], [11, 6, 2]]\n",
      "Mang b la:  [[9, 0, 58], [44, 84, 7], [65, 82, 14]]\n",
      "Trung binh cac phan tu trong mang a la:  43.888888888888886\n",
      "Trung binh cac phan tu trong mang a la:  40.333333333333336\n"
     ]
    }
   ],
   "source": [
    "import random\n",
    "a=[]\n",
    "b=[]\n",
    "resultA=0\n",
    "resultB=0\n",
    "lengA=0\n",
    "lengB=0\n",
    "for i in range(0,3):\n",
    "    a.append([])\n",
    "    b.append([])\n",
    "    for j in range(0,3):\n",
    "        val=random.randint(0,100)\n",
    "        resultA+=val\n",
    "        val1=random.randint(0,100)\n",
    "        resultB+=val1\n",
    "        a[i].append(val)\n",
    "        lengA+=1\n",
    "        b[i].append(val1)\n",
    "        lengB+=1\n",
    "print(\"Mang a la: \" , a)\n",
    "print(\"Mang b la: \" , b)\n",
    "print('Trung binh cac phan tu trong mang a la: ', resultA/lengA)\n",
    "print('Trung binh cac phan tu trong mang a la: ', resultB/lengB)\n"
   ]
  },
  {
   "cell_type": "code",
   "execution_count": null,
   "metadata": {},
   "outputs": [],
   "source": []
  }
 ],
 "metadata": {
  "kernelspec": {
   "display_name": "Python 3",
   "language": "python",
   "name": "python3"
  },
  "language_info": {
   "codemirror_mode": {
    "name": "ipython",
    "version": 3
   },
   "file_extension": ".py",
   "mimetype": "text/x-python",
   "name": "python",
   "nbconvert_exporter": "python",
   "pygments_lexer": "ipython3",
   "version": "3.8.5"
  }
 },
 "nbformat": 4,
 "nbformat_minor": 4
}
