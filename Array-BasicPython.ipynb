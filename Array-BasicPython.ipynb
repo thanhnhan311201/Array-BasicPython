{
 "cells": [
  {
   "cell_type": "code",
   "execution_count": 11,
   "metadata": {},
   "outputs": [
    {
     "name": "stdout",
     "output_type": "stream",
     "text": [
      "Mang a duoc tao bang cach thu  cong la:  [[43, 96, 15], [32, 83, 11], [42, 87, 73]]\n",
      "Mang b duoc tao bang cach thu cong la:  [[64, 45, 19], [73, 17, 71], [60, 49, 15]]\n",
      "Tong thoi gian tao mang 2D bang cach thu cong la: 0.000000s\n",
      "Mang c duoc tao bang thu vien numpy la:  [[28 59 25]\n",
      " [72 14 52]\n",
      " [39 18 86]]\n",
      "Mang d duoc tao bang thu vien numpy la:  [[22 82 21]\n",
      " [73  8 73]\n",
      " [96 77 57]]\n",
      "Tong thoi gian tao mang 2D bang thu vien numpy la: 0.000000s\n"
     ]
    }
   ],
   "source": [
    "import random\n",
    "import time\n",
    "import numpy as np\n",
    "\n",
    "start_time = time.time()\n",
    "a = []\n",
    "b = []\n",
    "for i in range(0,3):\n",
    "    a.append([])\n",
    "    b.append([])\n",
    "    for j in range(0,3):\n",
    "        val = random.randint(0,100)\n",
    "        val1 = random.randint(0,100)\n",
    "        a[i].append(val)\n",
    "        b[i].append(val1)\n",
    "end_time = time.time()\n",
    "print(\"Mang a duoc tao bang cach thu  cong la: \" , a)\n",
    "print(\"Mang b duoc tao bang cach thu cong la: \" , b)\n",
    "print('Tong thoi gian tao mang 2D bang cach thu cong la: %fs' % (end_time - start_time))\n",
    "\n",
    "start_time1 = time.time()\n",
    "c = np.random.randint(100,size=(3,3))\n",
    "d = np.random.randint(100,size=(3,3))\n",
    "end_time1 = time.time()\n",
    "print(\"Mang c duoc tao bang thu vien numpy la: \" , c)\n",
    "print(\"Mang d duoc tao bang thu vien numpy la: \" , d)\n",
    "print('Tong thoi gian tao mang 2D bang thu vien numpy la: %fs' % (end_time1 - start_time1))"
   ]
  },
  {
   "cell_type": "code",
   "execution_count": 12,
   "metadata": {},
   "outputs": [
    {
     "name": "stdout",
     "output_type": "stream",
     "text": [
      "Mang a + b duoc tao bang cach thu cong la:  [[107, 141, 34], [105, 100, 82], [102, 136, 88]]\n",
      "Tong thoi gian cong 2 mang bang cach thu cong la: 0.000000s\n",
      "Mang c + d duoc tao bang thu vien numpy la:  [[ 50 141  46]\n",
      " [145  22 125]\n",
      " [135  95 143]]\n",
      "Tong thoi gian cong 2 mang bang thu vien numpy la: -0.000997s\n"
     ]
    }
   ],
   "source": [
    "start_time2 = time.time()\n",
    "ab = []\n",
    "for i in range(0,3):\n",
    "    ab.append([])\n",
    "    for j in range(0,3):\n",
    "        num = a[i][j] + b[i][j]\n",
    "        ab[i].append(num)\n",
    "end_time2 = time.time()\n",
    "print(\"Mang a + b duoc tao bang cach thu cong la: \" , ab)\n",
    "print('Tong thoi gian cong 2 mang bang cach thu cong la: %fs' % (end_time2 - start_time2))\n",
    "\n",
    "start_time3 = time.time()\n",
    "cd = c + d\n",
    "end_time3 = time.time()\n",
    "print(\"Mang c + d duoc tao bang thu vien numpy la: \", c + d)\n",
    "print('Tong thoi gian cong 2 mang bang thu vien numpy la: %fs' % (end_time2 - start_time3))"
   ]
  },
  {
   "cell_type": "code",
   "execution_count": 13,
   "metadata": {},
   "outputs": [
    {
     "name": "stdout",
     "output_type": "stream",
     "text": [
      "Trung binh cac phan tu trong mang a la:  53.55555555555556\n",
      "Trung binh cac phan tu trong mang a la:  45.888888888888886\n",
      "Tong thoi gian tinh trung binh bang cach thu cong la: 0.000997s\n",
      "Trung binh cac phan tu trong mang c la:  43.666666666666664\n",
      "Trung binh cac phan tu trong mang d la:  56.55555555555556\n",
      "Tong thoi gian tinh trung binh bang thu vien numpy la: 0.000000s\n"
     ]
    }
   ],
   "source": [
    "start_time4= time.time()\n",
    "resultA = 0\n",
    "resultB = 0\n",
    "lengA = 0\n",
    "lengB = 0\n",
    "for i in range(0,3):\n",
    "    for j in range(0,3):\n",
    "        resultA += a[i][j]\n",
    "        resultB += b[i][j]\n",
    "        lengA += 1\n",
    "        lengB += 1\n",
    "resultA /= lengA\n",
    "resultB /= lengB\n",
    "end_time4 = time.time()\n",
    "print('Trung binh cac phan tu trong mang a la: ' , resultA)\n",
    "print('Trung binh cac phan tu trong mang a la: ' , resultB)\n",
    "print('Tong thoi gian tinh trung binh bang cach thu cong la: %fs' % (end_time4 - start_time4))\n",
    "\n",
    "start_time5 = time.time()\n",
    "resultC = np.mean(c)\n",
    "resultD = np.mean(d)\n",
    "end_time5 = time.time()\n",
    "print('Trung binh cac phan tu trong mang c la: ' , resultC)\n",
    "print('Trung binh cac phan tu trong mang d la: ' , resultD)\n",
    "print('Tong thoi gian tinh trung binh bang thu vien numpy la: %fs' % (end_time5 - start_time5))"
   ]
  },
  {
   "cell_type": "code",
   "execution_count": 3,
   "metadata": {},
   "outputs": [
    {
     "ename": "NameError",
     "evalue": "name 'a' is not defined",
     "output_type": "error",
     "traceback": [
      "\u001b[1;31m---------------------------------------------------------------------------\u001b[0m",
      "\u001b[1;31mNameError\u001b[0m                                 Traceback (most recent call last)",
      "\u001b[1;32m<ipython-input-3-bdb77f1c623d>\u001b[0m in \u001b[0;36m<module>\u001b[1;34m\u001b[0m\n\u001b[0;32m      1\u001b[0m \u001b[1;31m# cách thường dùng\u001b[0m\u001b[1;33m\u001b[0m\u001b[1;33m\u001b[0m\u001b[1;33m\u001b[0m\u001b[0m\n\u001b[0;32m      2\u001b[0m \u001b[0msum\u001b[0m \u001b[1;33m=\u001b[0m \u001b[1;36m0\u001b[0m\u001b[1;33m\u001b[0m\u001b[1;33m\u001b[0m\u001b[0m\n\u001b[1;32m----> 3\u001b[1;33m \u001b[1;32mfor\u001b[0m \u001b[0mi\u001b[0m \u001b[1;32min\u001b[0m \u001b[0mrange\u001b[0m\u001b[1;33m(\u001b[0m\u001b[0mlen\u001b[0m\u001b[1;33m(\u001b[0m\u001b[0ma\u001b[0m\u001b[1;33m)\u001b[0m\u001b[1;33m)\u001b[0m\u001b[1;33m:\u001b[0m\u001b[1;33m\u001b[0m\u001b[1;33m\u001b[0m\u001b[0m\n\u001b[0m\u001b[0;32m      4\u001b[0m     \u001b[1;32mfor\u001b[0m \u001b[0mj\u001b[0m \u001b[1;32min\u001b[0m \u001b[0mrange\u001b[0m\u001b[1;33m(\u001b[0m\u001b[0mlen\u001b[0m\u001b[1;33m(\u001b[0m\u001b[0ma\u001b[0m\u001b[1;33m)\u001b[0m\u001b[1;33m)\u001b[0m\u001b[1;33m:\u001b[0m\u001b[1;33m\u001b[0m\u001b[1;33m\u001b[0m\u001b[0m\n\u001b[0;32m      5\u001b[0m         \u001b[0msum\u001b[0m \u001b[1;33m+=\u001b[0m \u001b[0ma\u001b[0m\u001b[1;33m[\u001b[0m\u001b[0mi\u001b[0m\u001b[1;33m]\u001b[0m\u001b[1;33m[\u001b[0m\u001b[0mj\u001b[0m\u001b[1;33m]\u001b[0m\u001b[1;33m\u001b[0m\u001b[1;33m\u001b[0m\u001b[0m\n",
      "\u001b[1;31mNameError\u001b[0m: name 'a' is not defined"
     ]
    }
   ],
   "source": [
    "# cách thường dùng\n",
    "sum = 0\n",
    "for i in range(len(a)):\n",
    "    for j in range(len(a)):\n",
    "        sum += a[i][j]\n",
    "print(\"Tong cua mang la: \", sum)"
   ]
  },
  {
   "cell_type": "code",
   "execution_count": 4,
   "metadata": {},
   "outputs": [
    {
     "ename": "NameError",
     "evalue": "name 'a' is not defined",
     "output_type": "error",
     "traceback": [
      "\u001b[1;31m---------------------------------------------------------------------------\u001b[0m",
      "\u001b[1;31mNameError\u001b[0m                                 Traceback (most recent call last)",
      "\u001b[1;32m<ipython-input-4-33ed01a6de9d>\u001b[0m in \u001b[0;36m<module>\u001b[1;34m\u001b[0m\n\u001b[0;32m      1\u001b[0m \u001b[1;32mimport\u001b[0m \u001b[0mnumpy\u001b[0m \u001b[1;32mas\u001b[0m \u001b[0mnp\u001b[0m\u001b[1;33m\u001b[0m\u001b[1;33m\u001b[0m\u001b[0m\n\u001b[1;32m----> 2\u001b[1;33m \u001b[0mprint\u001b[0m\u001b[1;33m(\u001b[0m\u001b[1;34m\"Tong cua mang khi dung numpy: \"\u001b[0m\u001b[1;33m,\u001b[0m \u001b[0mnp\u001b[0m\u001b[1;33m.\u001b[0m\u001b[0msum\u001b[0m\u001b[1;33m(\u001b[0m\u001b[0ma\u001b[0m\u001b[1;33m)\u001b[0m\u001b[1;33m)\u001b[0m\u001b[1;33m\u001b[0m\u001b[1;33m\u001b[0m\u001b[0m\n\u001b[0m",
      "\u001b[1;31mNameError\u001b[0m: name 'a' is not defined"
     ]
    }
   ],
   "source": [
    "import numpy as np\n",
    "print(\"Tong cua mang khi dung numpy: \", np.sum(a))"
   ]
  },
  {
   "cell_type": "code",
   "execution_count": 5,
   "metadata": {
    "scrolled": true
   },
   "outputs": [
    {
     "ename": "NameError",
     "evalue": "name 'a' is not defined",
     "output_type": "error",
     "traceback": [
      "\u001b[1;31m---------------------------------------------------------------------------\u001b[0m",
      "\u001b[1;31mNameError\u001b[0m                                 Traceback (most recent call last)",
      "\u001b[1;32m<ipython-input-5-ffc0ce4bbd48>\u001b[0m in \u001b[0;36m<module>\u001b[1;34m\u001b[0m\n\u001b[0;32m      3\u001b[0m \u001b[1;33m\u001b[0m\u001b[0m\n\u001b[0;32m      4\u001b[0m \u001b[0mstart_time\u001b[0m \u001b[1;33m=\u001b[0m \u001b[0mtime\u001b[0m\u001b[1;33m.\u001b[0m\u001b[0mtime\u001b[0m\u001b[1;33m(\u001b[0m\u001b[1;33m)\u001b[0m\u001b[1;33m\u001b[0m\u001b[1;33m\u001b[0m\u001b[0m\n\u001b[1;32m----> 5\u001b[1;33m \u001b[0mprint\u001b[0m\u001b[1;33m(\u001b[0m\u001b[1;34m\"MAX = \"\u001b[0m\u001b[1;33m,\u001b[0m\u001b[0mnp\u001b[0m\u001b[1;33m.\u001b[0m\u001b[0mmax\u001b[0m\u001b[1;33m(\u001b[0m\u001b[0ma\u001b[0m\u001b[1;33m)\u001b[0m\u001b[1;33m)\u001b[0m\u001b[1;33m\u001b[0m\u001b[1;33m\u001b[0m\u001b[0m\n\u001b[0m\u001b[0;32m      6\u001b[0m \u001b[0mprint\u001b[0m\u001b[1;33m(\u001b[0m\u001b[1;34m\"MiN = \"\u001b[0m\u001b[1;33m,\u001b[0m \u001b[0mnp\u001b[0m\u001b[1;33m.\u001b[0m\u001b[0mmin\u001b[0m\u001b[1;33m(\u001b[0m\u001b[0ma\u001b[0m\u001b[1;33m)\u001b[0m\u001b[1;33m)\u001b[0m\u001b[1;33m\u001b[0m\u001b[1;33m\u001b[0m\u001b[0m\n\u001b[0;32m      7\u001b[0m \u001b[0mend_time\u001b[0m \u001b[1;33m=\u001b[0m \u001b[0mtime\u001b[0m\u001b[1;33m.\u001b[0m\u001b[0mtime\u001b[0m\u001b[1;33m(\u001b[0m\u001b[1;33m)\u001b[0m\u001b[1;33m\u001b[0m\u001b[1;33m\u001b[0m\u001b[0m\n",
      "\u001b[1;31mNameError\u001b[0m: name 'a' is not defined"
     ]
    }
   ],
   "source": [
    "import numpy as np\n",
    "import time\n",
    "\n",
    "start_time = time.time()\n",
    "print(\"MAX = \",np.max(a))\n",
    "print(\"MiN = \", np.min(a))\n",
    "end_time = time.time()\n",
    "print('Tong thoi gian thuc hien: %fs' % (end_time - start_time))"
   ]
  },
  {
   "cell_type": "code",
   "execution_count": 6,
   "metadata": {},
   "outputs": [
    {
     "ename": "NameError",
     "evalue": "name 'a' is not defined",
     "output_type": "error",
     "traceback": [
      "\u001b[1;31m---------------------------------------------------------------------------\u001b[0m",
      "\u001b[1;31mNameError\u001b[0m                                 Traceback (most recent call last)",
      "\u001b[1;32m<ipython-input-6-8ac4a6221e6d>\u001b[0m in \u001b[0;36m<module>\u001b[1;34m\u001b[0m\n\u001b[0;32m      4\u001b[0m \u001b[0mmax\u001b[0m\u001b[1;33m=\u001b[0m \u001b[1;33m-\u001b[0m\u001b[1;36m10\u001b[0m\u001b[1;33m**\u001b[0m\u001b[1;36m9\u001b[0m\u001b[1;33m\u001b[0m\u001b[1;33m\u001b[0m\u001b[0m\n\u001b[0;32m      5\u001b[0m \u001b[0mmin\u001b[0m \u001b[1;33m=\u001b[0m \u001b[1;36m10\u001b[0m\u001b[1;33m**\u001b[0m\u001b[1;36m9\u001b[0m\u001b[1;33m\u001b[0m\u001b[1;33m\u001b[0m\u001b[0m\n\u001b[1;32m----> 6\u001b[1;33m \u001b[1;32mfor\u001b[0m \u001b[0mi\u001b[0m \u001b[1;32min\u001b[0m \u001b[0mrange\u001b[0m\u001b[1;33m(\u001b[0m\u001b[0mlen\u001b[0m\u001b[1;33m(\u001b[0m\u001b[0ma\u001b[0m\u001b[1;33m)\u001b[0m\u001b[1;33m)\u001b[0m\u001b[1;33m:\u001b[0m\u001b[1;33m\u001b[0m\u001b[1;33m\u001b[0m\u001b[0m\n\u001b[0m\u001b[0;32m      7\u001b[0m     \u001b[1;32mfor\u001b[0m \u001b[0mj\u001b[0m \u001b[1;32min\u001b[0m \u001b[0mrange\u001b[0m\u001b[1;33m(\u001b[0m\u001b[0mlen\u001b[0m\u001b[1;33m(\u001b[0m\u001b[0ma\u001b[0m\u001b[1;33m)\u001b[0m\u001b[1;33m)\u001b[0m\u001b[1;33m:\u001b[0m\u001b[1;33m\u001b[0m\u001b[1;33m\u001b[0m\u001b[0m\n\u001b[0;32m      8\u001b[0m         \u001b[1;32mif\u001b[0m \u001b[0mmax\u001b[0m\u001b[1;33m<\u001b[0m\u001b[0ma\u001b[0m\u001b[1;33m[\u001b[0m\u001b[0mi\u001b[0m\u001b[1;33m]\u001b[0m\u001b[1;33m[\u001b[0m\u001b[0mj\u001b[0m\u001b[1;33m]\u001b[0m\u001b[1;33m:\u001b[0m\u001b[1;33m\u001b[0m\u001b[1;33m\u001b[0m\u001b[0m\n",
      "\u001b[1;31mNameError\u001b[0m: name 'a' is not defined"
     ]
    }
   ],
   "source": [
    "import time\n",
    "\n",
    "start_time = time.time()\n",
    "max= -10**9\n",
    "min = 10**9\n",
    "for i in range(len(a)):\n",
    "    for j in range(len(a)):\n",
    "        if max<a[i][j]:\n",
    "            max = a[i][j]\n",
    "        if min>a[i][j]:\n",
    "            min = a[i][j]\n",
    "end_time = time.time()\n",
    "print(\"MAX = \",max)\n",
    "print(\"MIN = \",min)\n",
    "print('Tong thoi gian thuc hien: %fs' % (end_time - start_time))"
   ]
  },
  {
   "cell_type": "code",
   "execution_count": null,
   "metadata": {},
   "outputs": [],
   "source": []
  }
 ],
 "metadata": {
  "kernelspec": {
   "display_name": "Python 3",
   "language": "python",
   "name": "python3"
  },
  "language_info": {
   "codemirror_mode": {
    "name": "ipython",
    "version": 3
   },
   "file_extension": ".py",
   "mimetype": "text/x-python",
   "name": "python",
   "nbconvert_exporter": "python",
   "pygments_lexer": "ipython3",
   "version": "3.8.3"
  }
 },
 "nbformat": 4,
 "nbformat_minor": 4
}
