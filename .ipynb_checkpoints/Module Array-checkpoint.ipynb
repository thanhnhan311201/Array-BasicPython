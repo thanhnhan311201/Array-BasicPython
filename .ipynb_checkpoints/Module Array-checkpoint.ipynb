{
 "cells": [
  {
   "cell_type": "code",
   "execution_count": 1,
   "metadata": {},
   "outputs": [
    {
     "name": "stdout",
     "output_type": "stream",
     "text": [
      "array('i', [4, 5, 6, 3, 8, 9])\n",
      "i\n",
      "4\n"
     ]
    }
   ],
   "source": [
    "import array as ar\n",
    "\n",
    "#Khởi tạo mảng kiểu int\n",
    "a = ar.array('i',[4,5,6,3,8,9])\n",
    "print(a)\n",
    "print(a.typecode)\n",
    "print(a.itemsize)"
   ]
  },
  {
   "cell_type": "code",
   "execution_count": 2,
   "metadata": {},
   "outputs": [
    {
     "name": "stdout",
     "output_type": "stream",
     "text": [
      "array('i', [4, 5, 6, 3, 8, 9, 4])\n"
     ]
    }
   ],
   "source": [
    "#Thêm phần tử vào cuối mảng\n",
    "a.append(4)\n",
    "print(a)"
   ]
  },
  {
   "cell_type": "code",
   "execution_count": 3,
   "metadata": {},
   "outputs": [
    {
     "name": "stdout",
     "output_type": "stream",
     "text": [
      "(140516153307568, 7)\n"
     ]
    }
   ],
   "source": [
    "#Xuất ra địa chỉ và độ dài của mảng\n",
    "print(a.buffer_info())\n"
   ]
  },
  {
   "cell_type": "code",
   "execution_count": 4,
   "metadata": {},
   "outputs": [
    {
     "name": "stdout",
     "output_type": "stream",
     "text": [
      "2\n"
     ]
    }
   ],
   "source": [
    "#Xuất ra số lần xuất hiện của phần tử trong mảng\n",
    "print(a.count(4))"
   ]
  },
  {
   "cell_type": "code",
   "execution_count": 5,
   "metadata": {},
   "outputs": [
    {
     "name": "stdout",
     "output_type": "stream",
     "text": [
      "array('i', [24, 53, 13, 12, 5, 4])\n",
      "array('i', [4, 5, 6, 3, 8, 9, 4])\n",
      "array('i', [4, 5, 6, 3, 8, 9, 4, 10, 20, 30, 40])\n",
      "array('i', [24, 53, 13, 12, 5, 4, 10, 20, 30, 40])\n"
     ]
    }
   ],
   "source": [
    "#Thêm list vào mảng\n",
    "c = ar.array('i',[24,53,13,12,5,4])\n",
    "print(c)\n",
    "print(a)\n",
    "b = [10,20,30,40]\n",
    "a.extend(b)\n",
    "c.fromlist(b)\n",
    "print(a)\n",
    "print(c)"
   ]
  },
  {
   "cell_type": "code",
   "execution_count": 6,
   "metadata": {},
   "outputs": [
    {
     "name": "stdout",
     "output_type": "stream",
     "text": [
      "array('u', 'Hello world')\n"
     ]
    }
   ],
   "source": [
    "#Thêm chuỗi vào mảng\n",
    "d = ar.array('u','Hello')\n",
    "d.fromunicode(' world')\n",
    "print(d)"
   ]
  },
  {
   "cell_type": "code",
   "execution_count": 7,
   "metadata": {},
   "outputs": [
    {
     "name": "stdout",
     "output_type": "stream",
     "text": [
      "5\n"
     ]
    }
   ],
   "source": [
    "#Xuất ra vị trí đầu tiên của phần tử trong mảng\n",
    "print(a.index(9))"
   ]
  },
  {
   "cell_type": "code",
   "execution_count": 8,
   "metadata": {},
   "outputs": [
    {
     "name": "stdout",
     "output_type": "stream",
     "text": [
      "array('i', [4, 5, 6, 3, 8, 9, 4, 10, 20, 30, 40])\n",
      "9\n",
      "array('i', [4, 5, 6, 3, 8, 4, 10, 20, 30, 40])\n"
     ]
    }
   ],
   "source": [
    "#Lấy phần tử thứ i ra khỏi mảng\n",
    "print(a)\n",
    "print(a.pop(5))\n",
    "print(a)"
   ]
  },
  {
   "cell_type": "code",
   "execution_count": 9,
   "metadata": {},
   "outputs": [
    {
     "name": "stdout",
     "output_type": "stream",
     "text": [
      "array('i', [4, 5, 6, 3, 8, 4, 10, 20, 30, 40])\n",
      "array('i', [4, 5, 6, 3, 8, 4, 10, 30, 40])\n"
     ]
    }
   ],
   "source": [
    "#Xoá phần tử ra khỏi mảng\n",
    "print(a) \n",
    "a.remove(20)\n",
    "print(a)"
   ]
  },
  {
   "cell_type": "code",
   "execution_count": 10,
   "metadata": {},
   "outputs": [
    {
     "name": "stdout",
     "output_type": "stream",
     "text": [
      "array('i', [4, 5, 6, 3, 8, 4, 10, 30, 40])\n",
      "array('i', [4, 5, 6, 3, 8, 1000000, 4, 10, 30, 40])\n"
     ]
    }
   ],
   "source": [
    "#Thêm phần tử tại vị trí i\n",
    "print(a)\n",
    "a.insert(5,1000000)\n",
    "print(a)"
   ]
  },
  {
   "cell_type": "code",
   "execution_count": 11,
   "metadata": {},
   "outputs": [
    {
     "name": "stdout",
     "output_type": "stream",
     "text": [
      "array('i', [4, 5, 6, 3, 8, 1000000, 4, 10, 30, 40])\n",
      "array('i', [40, 30, 10, 4, 1000000, 8, 3, 6, 5, 4])\n"
     ]
    }
   ],
   "source": [
    "#Đảo ngược mảng\n",
    "print(a)\n",
    "a.reverse()\n",
    "print(a)"
   ]
  },
  {
   "cell_type": "code",
   "execution_count": 12,
   "metadata": {},
   "outputs": [
    {
     "name": "stdout",
     "output_type": "stream",
     "text": [
      "[40, 30, 10, 4, 1000000, 8, 3, 6, 5, 4]\n"
     ]
    }
   ],
   "source": [
    "#Chuyển mảng mảng thành list\n",
    "e = a.tolist()\n",
    "print(e)"
   ]
  },
  {
   "cell_type": "code",
   "execution_count": 13,
   "metadata": {},
   "outputs": [
    {
     "name": "stdout",
     "output_type": "stream",
     "text": [
      "Hello world\n"
     ]
    }
   ],
   "source": [
    "#Chuyển mảng thành chuỗi\n",
    "f = d.tounicode()\n",
    "print(f)"
   ]
  },
  {
   "cell_type": "code",
   "execution_count": null,
   "metadata": {},
   "outputs": [],
   "source": []
  },
  {
   "cell_type": "code",
   "execution_count": null,
   "metadata": {},
   "outputs": [],
   "source": []
  }
 ],
 "metadata": {
  "kernelspec": {
   "display_name": "Python 3",
   "language": "python",
   "name": "python3"
  },
  "language_info": {
   "codemirror_mode": {
    "name": "ipython",
    "version": 3
   },
   "file_extension": ".py",
   "mimetype": "text/x-python",
   "name": "python",
   "nbconvert_exporter": "python",
   "pygments_lexer": "ipython3",
   "version": "3.8.5"
  }
 },
 "nbformat": 4,
 "nbformat_minor": 4
}
