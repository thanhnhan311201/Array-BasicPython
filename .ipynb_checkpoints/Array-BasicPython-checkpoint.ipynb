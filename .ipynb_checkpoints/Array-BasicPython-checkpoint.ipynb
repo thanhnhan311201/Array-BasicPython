{
 "cells": [
  {
   "cell_type": "code",
   "execution_count": 23,
   "metadata": {},
   "outputs": [
    {
     "name": "stdout",
     "output_type": "stream",
     "text": [
      "Mang a la:  [[32, 19, 27], [99, 38, 78], [67, 90, 84]]\n",
      "Mang b la:  [[26, 40, 8], [58, 62, 34], [42, 97, 81]]\n"
     ]
    }
   ],
   "source": [
    "import random\n",
    "\n",
    "a = []\n",
    "b = []\n",
    "for i in range(0,3):\n",
    "    a.append([])\n",
    "    b.append([])\n",
    "    for j in range(0,3):\n",
    "        val = random.randint(0,100)\n",
    "        val1 = random.randint(0,100)\n",
    "        a[i].append(val)\n",
    "        b[i].append(val1)\n",
    "print(\"Mang a la: \" , a)\n",
    "print(\"Mang b la: \" , b)"
   ]
  },
  {
   "cell_type": "code",
   "execution_count": 24,
   "metadata": {},
   "outputs": [
    {
     "name": "stdout",
     "output_type": "stream",
     "text": [
      "Mang a la:  [[80, 96, 89], [85, 9, 25], [71, 100, 21]]\n",
      "Mang b la:  [[61, 67, 91], [32, 17, 96], [13, 69, 19]]\n",
      "Mang a + b la:  [[141, 163, 180], [117, 26, 121], [84, 169, 40]]\n"
     ]
    }
   ],
   "source": [
    "import random\n",
    "\n",
    "a = []\n",
    "b = []\n",
    "c = []\n",
    "for i in range(0,3):\n",
    "    a.append([])\n",
    "    b.append([])\n",
    "    c.append([])\n",
    "    for j in range(0,3):\n",
    "        val = random.randint(0,100)\n",
    "        val1 = random.randint(0,100)\n",
    "        a[i].append(val)\n",
    "        b[i].append(val1)\n",
    "        c[i].append(val+val1)\n",
    "print(\"Mang a la: \" , a)\n",
    "print(\"Mang b la: \" , b)\n",
    "print(\"Mang a + b la: \" , c)"
   ]
  },
  {
   "cell_type": "code",
   "execution_count": 27,
   "metadata": {},
   "outputs": [
    {
     "name": "stdout",
     "output_type": "stream",
     "text": [
      "Mang a la:  [[27, 8, 29], [90, 39, 58], [34, 88, 91]]\n",
      "Mang b la:  [[56, 39, 2], [74, 88, 16], [19, 43, 50]]\n",
      "Trung binh cac phan tu trong mang a la:  51.55555555555556\n",
      "Trung binh cac phan tu trong mang a la:  43.0\n",
      "Tong thoi gian thuc hien: 0.000997s\n"
     ]
    }
   ],
   "source": [
    "import random\n",
    "import time\n",
    "\n",
    "start_time = time.time()\n",
    "a = []\n",
    "b = []\n",
    "resultA = 0\n",
    "resultB = 0\n",
    "lengA = 0\n",
    "lengB = 0\n",
    "for i in range(0,3):\n",
    "    a.append([])\n",
    "    b.append([])\n",
    "    for j in range(0,3):\n",
    "        val = random.randint(0,100)\n",
    "        resultA += val\n",
    "        val1 = random.randint(0,100)\n",
    "        resultB += val1\n",
    "        a[i].append(val)\n",
    "        lengA += 1\n",
    "        b[i].append(val1)\n",
    "        lengB += 1\n",
    "resultA /= lengA\n",
    "resultB /= lengB\n",
    "end_time = time.time()\n",
    "print(\"Mang a la: \" , a)\n",
    "print(\"Mang b la: \" , b)\n",
    "print('Trung binh cac phan tu trong mang a la: ' , resultA)\n",
    "print('Trung binh cac phan tu trong mang a la: ' , resultB)\n",
    "print('Tong thoi gian thuc hien: %fs' % (end_time - start_time))\n"
   ]
  },
  {
   "cell_type": "code",
   "execution_count": 26,
   "metadata": {},
   "outputs": [
    {
     "name": "stdout",
     "output_type": "stream",
     "text": [
      "Mang a la:\n",
      "  [[48 29 14]\n",
      " [66 19 26]\n",
      " [90 83 84]]\n",
      "Mang b la:\n",
      "  [[37 80 11]\n",
      " [96 44 22]\n",
      " [93  7 67]]\n",
      "Trung binh cac phan tu trong mang a la:  51.0\n",
      "Trung binh cac phan tu trong mang a la:  50.77777777777778\n",
      "Tong thoi gian thuc hien: 0.000998s\n"
     ]
    }
   ],
   "source": [
    "import numpy as np\n",
    "import time\n",
    "\n",
    "start_time = time.time()\n",
    "a = np.random.randint(100,size=(3,3))\n",
    "b = np.random.randint(100,size=(3,3))\n",
    "print(\"Mang a la:\\n \" , a)\n",
    "print(\"Mang b la:\\n \" , b)\n",
    "resultA = np.mean(a)\n",
    "resultB = np.mean(b)\n",
    "end_time = time.time()\n",
    "print('Trung binh cac phan tu trong mang a la: ' , resultA)\n",
    "print('Trung binh cac phan tu trong mang a la: ' , resultB)\n",
    "print('Tong thoi gian thuc hien: %fs' % (end_time - start_time))"
   ]
  },
  {
   "cell_type": "code",
   "execution_count": null,
   "metadata": {},
   "outputs": [],
   "source": []
  }
 ],
 "metadata": {
  "kernelspec": {
   "display_name": "Python 3",
   "language": "python",
   "name": "python3"
  },
  "language_info": {
   "codemirror_mode": {
    "name": "ipython",
    "version": 3
   },
   "file_extension": ".py",
   "mimetype": "text/x-python",
   "name": "python",
   "nbconvert_exporter": "python",
   "pygments_lexer": "ipython3",
   "version": "3.8.5"
  }
 },
 "nbformat": 4,
 "nbformat_minor": 4
}
