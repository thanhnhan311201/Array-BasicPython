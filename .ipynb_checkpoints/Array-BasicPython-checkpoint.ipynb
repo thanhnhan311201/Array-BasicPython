{
 "cells": [
  {
   "cell_type": "code",
   "execution_count": 11,
   "metadata": {},
   "outputs": [
    {
     "name": "stdout",
     "output_type": "stream",
     "text": [
      "Mang a duoc tao bang cach thu  cong la:  [[43, 96, 15], [32, 83, 11], [42, 87, 73]]\n",
      "Mang b duoc tao bang cach thu cong la:  [[64, 45, 19], [73, 17, 71], [60, 49, 15]]\n",
      "Tong thoi gian tao mang 2D bang cach thu cong la: 0.000000s\n",
      "Mang c duoc tao bang thu vien numpy la:  [[28 59 25]\n",
      " [72 14 52]\n",
      " [39 18 86]]\n",
      "Mang d duoc tao bang thu vien numpy la:  [[22 82 21]\n",
      " [73  8 73]\n",
      " [96 77 57]]\n",
      "Tong thoi gian tao mang 2D bang thu vien numpy la: 0.000000s\n"
     ]
    }
   ],
   "source": [
    "import random\n",
    "import time\n",
    "import numpy as np\n",
    "\n",
    "start_time = time.time()\n",
    "a = []\n",
    "b = []\n",
    "for i in range(0,3):\n",
    "    a.append([])\n",
    "    b.append([])\n",
    "    for j in range(0,3):\n",
    "        val = random.randint(0,100)\n",
    "        val1 = random.randint(0,100)\n",
    "        a[i].append(val)\n",
    "        b[i].append(val1)\n",
    "end_time = time.time()\n",
    "print(\"Mang a duoc tao bang cach thu  cong la: \" , a)\n",
    "print(\"Mang b duoc tao bang cach thu cong la: \" , b)\n",
    "print('Tong thoi gian tao mang 2D bang cach thu cong la: %fs' % (end_time - start_time))\n",
    "\n",
    "start_time1 = time.time()\n",
    "c = np.random.randint(100,size=(3,3))\n",
    "d = np.random.randint(100,size=(3,3))\n",
    "end_time1 = time.time()\n",
    "print(\"Mang c duoc tao bang thu vien numpy la: \" , c)\n",
    "print(\"Mang d duoc tao bang thu vien numpy la: \" , d)\n",
    "print('Tong thoi gian tao mang 2D bang thu vien numpy la: %fs' % (end_time1 - start_time1))"
   ]
  },
  {
   "cell_type": "code",
   "execution_count": 12,
   "metadata": {},
   "outputs": [
    {
     "name": "stdout",
     "output_type": "stream",
     "text": [
      "Mang a + b duoc tao bang cach thu cong la:  [[107, 141, 34], [105, 100, 82], [102, 136, 88]]\n",
      "Tong thoi gian cong 2 mang bang cach thu cong la: 0.000000s\n",
      "Mang c + d duoc tao bang thu vien numpy la:  [[ 50 141  46]\n",
      " [145  22 125]\n",
      " [135  95 143]]\n",
      "Tong thoi gian cong 2 mang bang thu vien numpy la: -0.000997s\n"
     ]
    }
   ],
   "source": [
    "start_time2 = time.time()\n",
    "ab = []\n",
    "for i in range(0,3):\n",
    "    ab.append([])\n",
    "    for j in range(0,3):\n",
    "        num = a[i][j] + b[i][j]\n",
    "        ab[i].append(num)\n",
    "end_time2 = time.time()\n",
    "print(\"Mang a + b duoc tao bang cach thu cong la: \" , ab)\n",
    "print('Tong thoi gian cong 2 mang bang cach thu cong la: %fs' % (end_time2 - start_time2))\n",
    "\n",
    "start_time3 = time.time()\n",
    "cd = c + d\n",
    "end_time3 = time.time()\n",
    "print(\"Mang c + d duoc tao bang thu vien numpy la: \", c + d)\n",
    "print('Tong thoi gian cong 2 mang bang thu vien numpy la: %fs' % (end_time2 - start_time3))"
   ]
  },
  {
   "cell_type": "code",
   "execution_count": 13,
   "metadata": {},
   "outputs": [
    {
     "name": "stdout",
     "output_type": "stream",
     "text": [
      "Trung binh cac phan tu trong mang a la:  53.55555555555556\n",
      "Trung binh cac phan tu trong mang a la:  45.888888888888886\n",
      "Tong thoi gian tinh trung binh bang cach thu cong la: 0.000997s\n",
      "Trung binh cac phan tu trong mang c la:  43.666666666666664\n",
      "Trung binh cac phan tu trong mang d la:  56.55555555555556\n",
      "Tong thoi gian tinh trung binh bang thu vien numpy la: 0.000000s\n"
     ]
    }
   ],
   "source": [
    "start_time4= time.time()\n",
    "resultA = 0\n",
    "resultB = 0\n",
    "lengA = 0\n",
    "lengB = 0\n",
    "for i in range(0,3):\n",
    "    for j in range(0,3):\n",
    "        resultA += a[i][j]\n",
    "        resultB += b[i][j]\n",
    "        lengA += 1\n",
    "        lengB += 1\n",
    "resultA /= lengA\n",
    "resultB /= lengB\n",
    "end_time4 = time.time()\n",
    "print('Trung binh cac phan tu trong mang a la: ' , resultA)\n",
    "print('Trung binh cac phan tu trong mang a la: ' , resultB)\n",
    "print('Tong thoi gian tinh trung binh bang cach thu cong la: %fs' % (end_time4 - start_time4))\n",
    "\n",
    "start_time5 = time.time()\n",
    "resultC = np.mean(c)\n",
    "resultD = np.mean(d)\n",
    "end_time5 = time.time()\n",
    "print('Trung binh cac phan tu trong mang c la: ' , resultC)\n",
    "print('Trung binh cac phan tu trong mang d la: ' , resultD)\n",
    "print('Tong thoi gian tinh trung binh bang thu vien numpy la: %fs' % (end_time5 - start_time5))"
   ]
  },
  {
   "cell_type": "code",
   "execution_count": null,
   "metadata": {},
   "outputs": [],
   "source": []
  },
  {
   "cell_type": "code",
   "execution_count": null,
   "metadata": {},
   "outputs": [],
   "source": []
  },
  {
   "cell_type": "code",
   "execution_count": null,
   "metadata": {
    "scrolled": true
   },
   "outputs": [],
   "source": []
  },
  {
   "cell_type": "code",
   "execution_count": null,
   "metadata": {},
   "outputs": [],
   "source": []
  },
  {
   "cell_type": "code",
   "execution_count": null,
   "metadata": {},
   "outputs": [],
   "source": []
  }
 ],
 "metadata": {
  "kernelspec": {
   "display_name": "Python 3",
   "language": "python",
   "name": "python3"
  },
  "language_info": {
   "codemirror_mode": {
    "name": "ipython",
    "version": 3
   },
   "file_extension": ".py",
   "mimetype": "text/x-python",
   "name": "python",
   "nbconvert_exporter": "python",
   "pygments_lexer": "ipython3",
   "version": "3.8.5"
  }
 },
 "nbformat": 4,
 "nbformat_minor": 4
}
