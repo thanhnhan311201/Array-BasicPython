{
 "cells": [
  {
   "cell_type": "code",
   "execution_count": 12,
   "metadata": {},
   "outputs": [
    {
     "name": "stdout",
     "output_type": "stream",
     "text": [
      "Mang a duoc tao bang cach thu  cong la:  [[97, 23, 0], [2, 86, 4], [46, 54, 80]]\n",
      "Mang b duoc tao bang cach thu cong la:  [[63, 94, 30], [26, 59, 84], [23, 17, 62]]\n",
      "Tong thoi gian tao mang 2D bang cach thu cong la: 0.000000s\n",
      "Mang c duoc tao bang thu vien numpy la:  [[99 77 14]\n",
      " [97 78 30]\n",
      " [75  6 57]]\n",
      "Mang d duoc tao bang thu vien numpy la:  [[86 37 32]\n",
      " [74 40 12]\n",
      " [23 89  5]]\n",
      "Tong thoi gian tao mang 2D bang thu vien numpy la: 0.000000s\n"
     ]
    }
   ],
   "source": [
    "import random\n",
    "import time\n",
    "import numpy as np\n",
    "\n",
    "start_time = time.time()\n",
    "a = []\n",
    "b = []\n",
    "for i in range(0,3):\n",
    "    a.append([])\n",
    "    b.append([])\n",
    "    for j in range(0,3):\n",
    "        val = random.randint(0,100)\n",
    "        val1 = random.randint(0,100)\n",
    "        a[i].append(val)\n",
    "        b[i].append(val1)\n",
    "end_time = time.time()\n",
    "print(\"Mang a duoc tao bang cach thu  cong la: \" , a)\n",
    "print(\"Mang b duoc tao bang cach thu cong la: \" , b)\n",
    "print('Tong thoi gian tao mang 2D bang cach thu cong la: %fs' % (end_time - start_time))\n",
    "\n",
    "start_time1 = time.time()\n",
    "c = np.random.randint(100,size=(3,3))\n",
    "d = np.random.randint(100,size=(3,3))\n",
    "end_time1 = time.time()\n",
    "print(\"Mang c duoc tao bang thu vien numpy la: \" , c)\n",
    "print(\"Mang d duoc tao bang thu vien numpy la: \" , d)\n",
    "print('Tong thoi gian tao mang 2D bang thu vien numpy la: %fs' % (end_time1 - start_time1))"
   ]
  },
  {
   "cell_type": "code",
   "execution_count": 13,
   "metadata": {},
   "outputs": [
    {
     "name": "stdout",
     "output_type": "stream",
     "text": [
      "Mang a + b duoc tao bang cach thu cong la:  [[160, 117, 30], [28, 145, 88], [69, 71, 142]]\n",
      "Tong thoi gian cong 2 mang bang cach thu cong la: 0.000997s\n",
      "Mang c + d duoc tao bang thu vien numpy la:  [[185 114  46]\n",
      " [171 118  42]\n",
      " [ 98  95  62]]\n",
      "Tong thoi gian cong 2 mang bang thu vien numpy la: 0.000000s\n"
     ]
    }
   ],
   "source": [
    "start_time2 = time.time()\n",
    "ab = []\n",
    "for i in range(0,3):\n",
    "    ab.append([])\n",
    "    for j in range(0,3):\n",
    "        num = a[i][j] + b[i][j]\n",
    "        ab[i].append(num)\n",
    "end_time2 = time.time()\n",
    "print(\"Mang a + b duoc tao bang cach thu cong la: \" , ab)\n",
    "print('Tong thoi gian cong 2 mang bang cach thu cong la: %fs' % (end_time2 - start_time2))\n",
    "\n",
    "start_time3 = time.time()\n",
    "cd = c + d\n",
    "end_time3 = time.time()\n",
    "print(\"Mang c + d duoc tao bang thu vien numpy la: \", c + d)\n",
    "print('Tong thoi gian cong 2 mang bang thu vien numpy la: %fs' % (end_time2 - start_time3))"
   ]
  },
  {
   "cell_type": "code",
   "execution_count": 14,
   "metadata": {},
   "outputs": [
    {
     "name": "stdout",
     "output_type": "stream",
     "text": [
      "Trung binh cac phan tu trong mang a la:  43.55555555555556\n",
      "Trung binh cac phan tu trong mang a la:  50.888888888888886\n",
      "Tong thoi gian tinh trung binh bang cach thu cong la: 0.000000s\n",
      "Trung binh cac phan tu trong mang c la:  59.22222222222222\n",
      "Trung binh cac phan tu trong mang d la:  44.22222222222222\n",
      "Tong thoi gian tinh trung binh bang thu vien numpy la: 0.000000s\n"
     ]
    }
   ],
   "source": [
    "start_time4= time.time()\n",
    "resultA = 0\n",
    "resultB = 0\n",
    "lengA = 0\n",
    "lengB = 0\n",
    "for i in range(0,3):\n",
    "    for j in range(0,3):\n",
    "        resultA += a[i][j]\n",
    "        resultB += b[i][j]\n",
    "        lengA += 1\n",
    "        lengB += 1\n",
    "resultA /= lengA\n",
    "resultB /= lengB\n",
    "end_time4 = time.time()\n",
    "print('Trung binh cac phan tu trong mang a la: ' , resultA)\n",
    "print('Trung binh cac phan tu trong mang a la: ' , resultB)\n",
    "print('Tong thoi gian tinh trung binh bang cach thu cong la: %fs' % (end_time4 - start_time4))\n",
    "\n",
    "start_time5 = time.time()\n",
    "resultC = np.mean(c)\n",
    "resultD = np.mean(d)\n",
    "end_time5 = time.time()\n",
    "print('Trung binh cac phan tu trong mang c la: ' , resultC)\n",
    "print('Trung binh cac phan tu trong mang d la: ' , resultD)\n",
    "print('Tong thoi gian tinh trung binh bang thu vien numpy la: %fs' % (end_time5 - start_time5))"
   ]
  },
  {
   "cell_type": "code",
   "execution_count": 15,
   "metadata": {},
   "outputs": [
    {
     "name": "stdout",
     "output_type": "stream",
     "text": [
      "Tong cua mang la:  392\n"
     ]
    }
   ],
   "source": [
    "# cách thường dùng\n",
    "sum = 0\n",
    "for i in range(len(a)):\n",
    "    for j in range(len(a)):\n",
    "        sum += a[i][j]\n",
    "print(\"Tong cua mang la: \", sum)"
   ]
  },
  {
   "cell_type": "code",
   "execution_count": 16,
   "metadata": {},
   "outputs": [
    {
     "name": "stdout",
     "output_type": "stream",
     "text": [
      "Tong cua mang khi dung numpy:  392\n"
     ]
    }
   ],
   "source": [
    "print(\"Tong cua mang khi dung numpy: \", np.sum(a))"
   ]
  },
  {
   "cell_type": "code",
   "execution_count": 17,
   "metadata": {
    "scrolled": true
   },
   "outputs": [
    {
     "name": "stdout",
     "output_type": "stream",
     "text": [
      "MAX =  97\n",
      "MiN =  0\n",
      "Tong thoi gian thuc hien: 0.000998s\n"
     ]
    }
   ],
   "source": [
    "import numpy as np\n",
    "import time\n",
    "\n",
    "start_time = time.time()\n",
    "print(\"MAX = \",np.max(a))\n",
    "print(\"MiN = \", np.min(a))\n",
    "end_time = time.time()\n",
    "print('Tong thoi gian thuc hien: %fs' % (end_time - start_time))"
   ]
  },
  {
   "cell_type": "code",
   "execution_count": 18,
   "metadata": {},
   "outputs": [
    {
     "name": "stdout",
     "output_type": "stream",
     "text": [
      "MAX =  97\n",
      "MIN =  0\n",
      "Tong thoi gian thuc hien: 0.000000s\n"
     ]
    }
   ],
   "source": [
    "import time\n",
    "\n",
    "start_time = time.time()\n",
    "max= -10**9\n",
    "min = 10**9\n",
    "for i in range(len(a)):\n",
    "    for j in range(len(a)):\n",
    "        if max<a[i][j]:\n",
    "            max = a[i][j]\n",
    "        if min>a[i][j]:\n",
    "            min = a[i][j]\n",
    "end_time = time.time()\n",
    "print(\"MAX = \",max)\n",
    "print(\"MIN = \",min)\n",
    "print('Tong thoi gian thuc hien: %fs' % (end_time - start_time))"
   ]
  },
  {
   "cell_type": "code",
   "execution_count": null,
   "metadata": {},
   "outputs": [],
   "source": []
  },
  {
   "cell_type": "code",
   "execution_count": null,
   "metadata": {},
   "outputs": [],
   "source": []
  }
 ],
 "metadata": {
  "kernelspec": {
   "display_name": "Python 3",
   "language": "python",
   "name": "python3"
  },
  "language_info": {
   "codemirror_mode": {
    "name": "ipython",
    "version": 3
   },
   "file_extension": ".py",
   "mimetype": "text/x-python",
   "name": "python",
   "nbconvert_exporter": "python",
   "pygments_lexer": "ipython3",
   "version": "3.8.5"
  }
 },
 "nbformat": 4,
 "nbformat_minor": 4
}
